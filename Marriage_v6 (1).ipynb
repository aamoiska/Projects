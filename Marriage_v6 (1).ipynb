{
  "nbformat": 4,
  "nbformat_minor": 0,
  "metadata": {
    "colab": {
      "name": "Marriage_v6.ipynb",
      "provenance": [],
      "collapsed_sections": [
        "Lowu37QCIKgg",
        "H-2IwmQ52oau",
        "8hGciOC7EgTg",
        "50pSagiMNWfZ"
      ]
    },
    "kernelspec": {
      "name": "python3",
      "display_name": "Python 3"
    },
    "language_info": {
      "name": "python"
    }
  },
  "cells": [
    {
      "cell_type": "code",
      "metadata": {
        "id": "SVknASZm6pmO"
      },
      "source": [
        "import numpy as np\n",
        "from scipy.optimize import linprog"
      ],
      "execution_count": 23,
      "outputs": []
    },
    {
      "cell_type": "markdown",
      "metadata": {
        "id": "Lowu37QCIKgg"
      },
      "source": [
        "# Functions (linear programming)"
      ]
    },
    {
      "cell_type": "code",
      "metadata": {
        "id": "YkQQUlRuIKwY"
      },
      "source": [
        "#objecvec for men and women\n",
        "def func_objecvec(umen, uwomen):\n",
        "  men = len(umen)\n",
        "  women = len(uwomen)\n",
        "   \n",
        "  objecvec = [0] * (men * women)\n",
        "\n",
        "  #men\n",
        "  for i in range(women):\n",
        "    objecvec[-women + i] -= umen[-1][i]\n",
        "\n",
        "  #women\n",
        "  for i in range(men):\n",
        "    objecvec[(i + 1) * women - 1] -= uwomen[-1][i]\n",
        "  \n",
        "  return objecvec"
      ],
      "execution_count": 36,
      "outputs": []
    },
    {
      "cell_type": "code",
      "metadata": {
        "id": "kHaiKXZGNAG2"
      },
      "source": [
        "#constrains matrix\n",
        "def func_constraints(umen, uwomen):\n",
        "  men = len(umen)\n",
        "  women = len(uwomen)\n",
        "\n",
        "  rows = (men - 1) + (women - 1) + men + women\n",
        "  columns = men * women\n",
        "  constraints = np.zeros((rows, columns))\n",
        "\n",
        "  #first (men - 1) men more than the last man\n",
        "  for i in range(men - 1):\n",
        "    temp = [0] * (men * women)\n",
        "    for j in range(women):\n",
        "      temp[-j - 1] = umen[-1][-j - 1]\n",
        "    for j in range(women):\n",
        "      temp[i * women + j] = -umen[i][j]\n",
        "    constraints[i] = temp\n",
        "\n",
        "  #first (women - 1) women more than the last woman\n",
        "  for i in range(women - 1):\n",
        "    temp = [0] * (men * women)\n",
        "    for j in range(men):\n",
        "      temp[women * (j + 1) - 1] = uwomen[-1][j]\n",
        "    for j in range(men):\n",
        "      temp[i + j * women] = -uwomen[i][j]\n",
        "    constraints[men - 1 + i] = temp\n",
        "\n",
        "  #men probability no more than 1\n",
        "  for i in range(men):\n",
        "    temp = [0] * (men * women)\n",
        "    for j in range(women):\n",
        "      temp[i * women + j] = 1\n",
        "    constraints[rows - women - men + i, :] = temp\n",
        "\n",
        "  #women probability no more than 1\n",
        "  for i in range(women):\n",
        "    temp = [0] * (women * men)\n",
        "    for j in range(men):\n",
        "      temp[j * women + i] = 1\n",
        "    constraints[rows - women + i, :] = temp\n",
        "  \n",
        "  return constraints"
      ],
      "execution_count": 37,
      "outputs": []
    },
    {
      "cell_type": "code",
      "metadata": {
        "id": "TqeD3Oz_NClN"
      },
      "source": [
        "def func_constraints_bounds(umen, uwomen):\n",
        "  men = len(umen)\n",
        "  women = len(uwomen)\n",
        "\n",
        "  constraints_bounds = [0] * (men - 1 + women - 1 + men + women)\n",
        "  \n",
        "  for i in range(men + women):\n",
        "    constraints_bounds[-i - 1] = 1\n",
        "\n",
        "  return constraints_bounds"
      ],
      "execution_count": 38,
      "outputs": []
    },
    {
      "cell_type": "code",
      "metadata": {
        "id": "teLnjhJzNE4F"
      },
      "source": [
        "def func_boundslist(umen, uwomen):\n",
        "  men = len(umen)\n",
        "  women = len(uwomen)\n",
        "\n",
        "  temp = (0, 1)\n",
        "  boundslist = []\n",
        "  \n",
        "  for i in range (women * men):\n",
        "    boundslist.append(temp)\n",
        "  \n",
        "  return boundslist"
      ],
      "execution_count": 39,
      "outputs": []
    },
    {
      "cell_type": "code",
      "metadata": {
        "id": "bWJieSspNK9g"
      },
      "source": [
        "def func_expected_utility (umen, uwomen):\n",
        "  men = len(umen)\n",
        "  women = len(uwomen)\n",
        "\n",
        "  objecvec = func_objecvec(umen, uwomen)\n",
        "  constraints = func_constraints(umen, uwomen)\n",
        "  constraints_bounds = func_constraints_bounds(umen, uwomen)\n",
        "  boundslist = func_boundslist(umen, uwomen)\n",
        "  \n",
        "  res = linprog(objecvec, A_ub = constraints, b_ub = constraints_bounds, bounds = boundslist, method = 'revised simplex')\n",
        "  result = res.x\n",
        "\n",
        "  probabilities = np.zeros((men, women))\n",
        "\n",
        "  for i in range(men * women):\n",
        "    row = i // women\n",
        "    column = i - row * women\n",
        "    probabilities[row][column] = result[i]\n",
        "\n",
        "  #men\n",
        "  revmen = [0] * men\n",
        "  for i in range(men):\n",
        "    for j in range(women):\n",
        "      revmen[i] += probabilities[i][j] * umen[i][j]\n",
        "\n",
        "  #women\n",
        "  revwomen = [0] * women\n",
        "  for i in range(women):\n",
        "    for j in range(men):\n",
        "      revwomen[i] += probabilities[j][i] * uwomen[i][j]\n",
        "\n",
        "  ans = len(revmen) * min(revmen) + len(revwomen) * min(revwomen)\n",
        "  \n",
        "  return ans, probabilities"
      ],
      "execution_count": 40,
      "outputs": []
    },
    {
      "cell_type": "markdown",
      "metadata": {
        "id": "H-2IwmQ52oau"
      },
      "source": [
        "# Functions (creating list of deleted from rand number)"
      ]
    },
    {
      "cell_type": "code",
      "metadata": {
        "id": "YtswF7qP2rux"
      },
      "source": [
        "#list from number for greedy algorithm\n",
        "def func_delete_list_greedy(i):\n",
        "  delete_list = []\n",
        "  temp = 0\n",
        "\n",
        "  while i > 0:\n",
        "    if i % 2 == 1:\n",
        "      delete_list.append(temp)\n",
        "    i = i // 2\n",
        "    temp += 1\n",
        "    \n",
        "  return delete_list"
      ],
      "execution_count": 29,
      "outputs": []
    },
    {
      "cell_type": "code",
      "metadata": {
        "id": "O4asr-vOCAIM"
      },
      "source": [
        "#list from number for sorted algorithm\n",
        "def func_delete_list_sorted(i):\n",
        "  delete_list = []\n",
        "\n",
        "  for j in range(i):\n",
        "    delete_list.append((-1) * (j + 1))\n",
        "    \n",
        "  return delete_list"
      ],
      "execution_count": 30,
      "outputs": []
    },
    {
      "cell_type": "markdown",
      "metadata": {
        "id": "8hGciOC7EgTg"
      },
      "source": [
        "# Functions (greedy and sorted algorithms, custom sorting function)"
      ]
    },
    {
      "cell_type": "code",
      "metadata": {
        "id": "vz5ODmA0EjJF"
      },
      "source": [
        "def func_greedy_eu(umen, uwomen):\n",
        "  men = len(umen)\n",
        "  women = len(uwomen)\n",
        "  maximum_revenue = 0\n",
        "\n",
        "  for i in range(2 ** men - 1):\n",
        "    delete_men = func_delete_list_greedy(i)\n",
        "\n",
        "    for j in range(2 ** women - 1):\n",
        "      delete_women = func_delete_list_greedy(j)\n",
        "\n",
        "      umen_temp = umen.copy()\n",
        "      uwomen_temp = uwomen.copy()\n",
        "\n",
        "      umen_temp = np.delete(umen_temp, delete_men, axis = 0)\n",
        "      umen_temp = np.delete(umen_temp, delete_women, axis = 1)\n",
        "\n",
        "      uwomen_temp = np.delete(uwomen_temp, delete_women, axis = 0)\n",
        "      uwomen_temp = np.delete(uwomen_temp, delete_men, axis = 1)\n",
        "\n",
        "      result = func_expected_utility(umen_temp, uwomen_temp)\n",
        "      eu = result[0]\n",
        "      probs = result[1]\n",
        "\n",
        "      if maximum_revenue < eu:\n",
        "        maximum_revenue = eu\n",
        "        umen_max = umen_temp.copy()\n",
        "        uwomen_max = uwomen_temp.copy()\n",
        "        deleted_men_max = delete_men\n",
        "        deleted_women_max = delete_women\n",
        "        probabilities = probs\n",
        "\n",
        "  return maximum_revenue, umen_max, uwomen_max, deleted_men_max, deleted_women_max, probabilities"
      ],
      "execution_count": 31,
      "outputs": []
    },
    {
      "cell_type": "code",
      "metadata": {
        "id": "d-f6WnPOFS4t"
      },
      "source": [
        "def func_sorted_eu(umen, uwomen):\n",
        "  men = len(umen)\n",
        "  women = len(uwomen)\n",
        "  maximum_revenue = 0\n",
        "\n",
        "  for i in range(men):\n",
        "    delete_men = func_delete_list_sorted(i)\n",
        "\n",
        "    for j in range(women):\n",
        "      delete_women = func_delete_list_sorted(j)\n",
        "\n",
        "      umen_temp = umen.copy()\n",
        "      uwomen_temp = uwomen.copy()\n",
        "\n",
        "      umen_temp = np.delete(umen_temp, delete_men, axis = 0)\n",
        "      umen_temp = np.delete(umen_temp, delete_women, axis = 1)\n",
        "\n",
        "      uwomen_temp = np.delete(uwomen_temp, delete_women, axis = 0)\n",
        "      uwomen_temp = np.delete(uwomen_temp, delete_men, axis = 1)\n",
        "\n",
        "      result = func_expected_utility(umen_temp, uwomen_temp)\n",
        "      eu = result[0]\n",
        "      probs = result[1]\n",
        "\n",
        "      if maximum_revenue < eu:\n",
        "        maximum_revenue = eu\n",
        "        umen_max = umen_temp.copy()\n",
        "        uwomen_max = uwomen_temp.copy()\n",
        "        deleted_men_max = delete_men\n",
        "        deleted_women_max = delete_women\n",
        "        probabilities = probs\n",
        "\n",
        "  return maximum_revenue, umen_max, uwomen_max, deleted_men_max, deleted_women_max, probabilities"
      ],
      "execution_count": 32,
      "outputs": []
    },
    {
      "cell_type": "code",
      "metadata": {
        "id": "r-tepqeYyeb9"
      },
      "source": [
        "def custom_sort(array_first, array_second):\n",
        "  rows = len(array_first)\n",
        "  for i in range(0, rows):\n",
        "    for j in range(0, rows - i - 1):\n",
        "      if max(array_first[j]) < max(array_first[j + 1]):\n",
        "\n",
        "        #changing rows\n",
        "        array_first[[j, j + 1]] = array_first[[j + 1, j]]\n",
        "\n",
        "        #changing columns\n",
        "        array_second[:, [j, j + 1]] = array_second[:, [j + 1, j]]\n",
        "\n",
        "  return array_first, array_second"
      ],
      "execution_count": null,
      "outputs": []
    },
    {
      "cell_type": "markdown",
      "metadata": {
        "id": "yDvpNH6v6wOq"
      },
      "source": [
        "# Input"
      ]
    },
    {
      "cell_type": "code",
      "metadata": {
        "colab": {
          "base_uri": "https://localhost:8080/",
          "height": 0
        },
        "id": "OQuwVdzy61qR",
        "outputId": "f82ccaac-3ac8-469e-f3bc-77081573607f"
      },
      "source": [
        "#insert number of men and women\n",
        "men, women = map(int, input().split())\n",
        "\n",
        "#insert matrix for men\n",
        "umen = np.zeros((men, women))\n",
        "for i in range(men):\n",
        "  umen[i] = np.array(list(map(int, input().split())))\n",
        "\n",
        "#insert matrix for women\n",
        "uwomen = np.zeros((women, men))\n",
        "for i in range(women):\n",
        "  uwomen[i] = np.array(list(map(int, input().split())))\n"
      ],
      "execution_count": 33,
      "outputs": [
        {
          "output_type": "stream",
          "text": [
            "3 3\n",
            "10 6 1\n",
            "6 8 1\n",
            "1 1 2\n",
            "10 6 5\n",
            "6 12 5\n",
            "5 5 20\n"
          ],
          "name": "stdout"
        }
      ]
    },
    {
      "cell_type": "markdown",
      "metadata": {
        "id": "lWzaGpUHFKJp"
      },
      "source": [
        "# Sorting"
      ]
    },
    {
      "cell_type": "code",
      "metadata": {
        "id": "4ZutHVaZFN1h",
        "colab": {
          "base_uri": "https://localhost:8080/",
          "height": 0
        },
        "outputId": "565436d1-fb37-47d9-fe15-097e8c5bfe7c"
      },
      "source": [
        "umen_raw = umen.copy()\n",
        "uwomen_raw = uwomen.copy()\n",
        "\n",
        "umen_sorted = umen.copy()\n",
        "uwomen_sorted = uwomen.copy()\n",
        "\n",
        "print('uwomen unsorted')\n",
        "print(uwomen_raw, end = '\\n\\n')\n",
        "\n",
        "print('umen unsorted')\n",
        "print(umen_raw, end = '\\n\\n')\n",
        "\n",
        "uwomen_sorted, umen_sorted = custom_sort(uwomen_sorted, umen_sorted)\n",
        "umen_sorted, uwomen_sorted = custom_sort(umen_sorted, uwomen_sorted)\n",
        "\n",
        "print('uwomen sorted')\n",
        "print(uwomen_sorted, end = '\\n\\n')\n",
        "\n",
        "print('umen sorted')\n",
        "print(umen_sorted, end = '\\n\\n')"
      ],
      "execution_count": 241,
      "outputs": [
        {
          "output_type": "stream",
          "text": [
            "uwomen unsorted\n",
            "[[10.  6.  5.]\n",
            " [ 6. 12.  5.]\n",
            " [ 5.  5. 20.]]\n",
            "\n",
            "umen unsorted\n",
            "[[10.  6.  1.]\n",
            " [ 6.  8.  1.]\n",
            " [ 1.  1.  2.]]\n",
            "\n",
            "uwomen sorted\n",
            "[[ 5.  5. 20.]\n",
            " [ 6. 12.  5.]\n",
            " [10.  6.  5.]]\n",
            "\n",
            "umen sorted\n",
            "[[ 1.  6. 10.]\n",
            " [ 1.  8.  6.]\n",
            " [ 2.  1.  1.]]\n",
            "\n"
          ],
          "name": "stdout"
        }
      ]
    },
    {
      "cell_type": "markdown",
      "metadata": {
        "id": "AKwFG_94OEr4"
      },
      "source": [
        "# Comparison of greedy and sorted"
      ]
    },
    {
      "cell_type": "code",
      "metadata": {
        "colab": {
          "base_uri": "https://localhost:8080/",
          "height": 0
        },
        "id": "FBl5ib0POHw_",
        "outputId": "f8912ba4-bc86-4bc5-8f35-b2e079f73f02"
      },
      "source": [
        "help_text = ['1. Maximum revenue', '2. Umen', '3. Uwomen', '4. Deleted men', '5. Deleted women', '6. Probabilities']\n",
        "\n",
        "result_greedy = func_greedy_eu(umen_sorted, uwomen_sorted)\n",
        "result_sorted = func_sorted_eu(umen_sorted, uwomen_sorted)\n",
        "\n",
        "for i in range(len(help_text)):\n",
        "  print(help_text[i])\n",
        "  print(i + 1, \".\", 1, \" Greedy\", sep = \"\")\n",
        "  print(result_greedy[i])\n",
        "  print(i + 1, \".\", 2, \" Sorted\", sep = \"\")\n",
        "  print(result_greedy[i])\n",
        "  print()\n"
      ],
      "execution_count": 242,
      "outputs": [
        {
          "output_type": "stream",
          "text": [
            "1. Maximum revenue\n",
            "1.1 Greedy\n",
            "33.85714285714284\n",
            "1.2 Sorted\n",
            "33.85714285714284\n",
            "\n",
            "2. Umen\n",
            "2.1 Greedy\n",
            "[[10.  6.  1.]\n",
            " [ 6.  8.  1.]\n",
            " [ 1.  1.  2.]]\n",
            "2.2 Sorted\n",
            "[[10.  6.  1.]\n",
            " [ 6.  8.  1.]\n",
            " [ 1.  1.  2.]]\n",
            "\n",
            "3. Uwomen\n",
            "3.1 Greedy\n",
            "[[10.  6.  5.]\n",
            " [ 6. 12.  5.]\n",
            " [ 5.  5. 20.]]\n",
            "3.2 Sorted\n",
            "[[10.  6.  5.]\n",
            " [ 6. 12.  5.]\n",
            " [ 5.  5. 20.]]\n",
            "\n",
            "4. Deleted men\n",
            "4.1 Greedy\n",
            "[]\n",
            "4.2 Sorted\n",
            "[]\n",
            "\n",
            "5. Deleted women\n",
            "5.1 Greedy\n",
            "[]\n",
            "5.2 Sorted\n",
            "[]\n",
            "\n",
            "6. Probabilities\n",
            "6.1 Greedy\n",
            "[[1.         0.         0.        ]\n",
            " [0.         0.71428571 0.        ]\n",
            " [0.         0.28571429 0.5       ]]\n",
            "6.2 Sorted\n",
            "[[1.         0.         0.        ]\n",
            " [0.         0.71428571 0.        ]\n",
            " [0.         0.28571429 0.5       ]]\n",
            "\n"
          ],
          "name": "stdout"
        }
      ]
    },
    {
      "cell_type": "markdown",
      "metadata": {
        "id": "50pSagiMNWfZ"
      },
      "source": [
        "# Sorted"
      ]
    },
    {
      "cell_type": "code",
      "metadata": {
        "colab": {
          "base_uri": "https://localhost:8080/"
        },
        "id": "p8JA3tmUN4k_",
        "outputId": "00e450ea-269e-475e-c5a7-a1502d154e4f"
      },
      "source": [
        "print('SORTED', end = '\\n\\n')\n",
        "result = func_sorted_eu(umen, uwomen)\n",
        "for i in range(len(result)):\n",
        "  print(help_text[i])\n",
        "  print(result[i])\n",
        "  print()"
      ],
      "execution_count": null,
      "outputs": [
        {
          "output_type": "stream",
          "text": [
            "SORTED\n",
            "\n",
            "1. Maximum revenue\n",
            "40.0\n",
            "\n",
            "2. Umen\n",
            "[[10.  6.]\n",
            " [ 6.  8.]]\n",
            "\n",
            "3. Uwomen\n",
            "[[20.  5.]\n",
            " [ 5. 12.]]\n",
            "\n",
            "4. Deleted men\n",
            "[-1]\n",
            "\n",
            "5. Deleted women\n",
            "[-1]\n",
            "\n",
            "6. Probabilities\n",
            "[[0.8 0. ]\n",
            " [0.  1. ]]\n",
            "\n"
          ],
          "name": "stdout"
        }
      ]
    }
  ]
}